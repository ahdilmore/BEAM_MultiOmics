{
 "cells": [
  {
   "cell_type": "code",
   "execution_count": 29,
   "metadata": {},
   "outputs": [],
   "source": [
    "import pandas as pd\n",
    "import qiime2 as q2\n",
    "from biom import Table\n",
    "import numpy as np\n",
    "import pandas as pd\n",
    "from qiime2.plugins.phylogeny.methods import filter_table\n",
    "import time\n",
    "\n",
    "from birdman import NegativeBinomialLME\n"
   ]
  },
  {
   "cell_type": "code",
   "execution_count": 30,
   "metadata": {},
   "outputs": [
    {
     "data": {
      "text/plain": [
       "3429 x 86 <class 'biom.table.Table'> with 165335 nonzero entries (56% dense)"
      ]
     },
     "execution_count": 30,
     "metadata": {},
     "output_type": "execute_result"
    }
   ],
   "source": [
    "table_metag = q2.Artifact.load('../data/metaG/metaG-matched-table.qza')\n",
    "metadata_metag = q2.Metadata.load('../data/metaG/metaG-matched-metadata.qza').to_dataframe()\n",
    "tree_metag = q2.Artifact.load('../data/metaG/wol_tree.qza')\n",
    "table_metag = filter_table(table_metag, tree_metag).filtered_table\n",
    "bt_table_metag = table_metag.view(Table)\n",
    "\n",
    "# filter and match the table\n",
    "n_features, n_samples = bt_table_metag.shape\n",
    "min_feature_frequency = 10\n",
    "min_feature_count = 0\n",
    "min_sample_count = 500000\n",
    "def frequency_filter(val, id_, md):\n",
    "    return (np.sum(val > 0) / n_samples) > (min_feature_frequency / 100)\n",
    "def observation_filter(val, id_, md):\n",
    "        return sum(val) > min_feature_count\n",
    "bt_table_metag = bt_table_metag.filter(bt_table_metag.ids()[(bt_table_metag.sum('sample') > min_sample_count)])\n",
    "bt_table_metag = bt_table_metag.filter(observation_filter, axis='observation')\n",
    "bt_table_metag = bt_table_metag.filter(frequency_filter, axis='observation')\n",
    "metadata_metag = metadata_metag.reindex(bt_table_metag.ids())\n",
    "bt_table_metag\n"
   ]
  },
  {
   "cell_type": "code",
   "execution_count": 31,
   "metadata": {},
   "outputs": [
    {
     "name": "stderr",
     "output_type": "stream",
     "text": [
      "INFO:cmdstanpy:found newer exe file, not recompiling\n",
      "INFO:cmdstanpy:compiled model file: /Users/cmartino/miniconda3/envs/qiime2-2021.2.songbird.mmvec/lib/python3.6/site-packages/birdman/templates/negative_binomial_lme\n",
      "INFO:cmdstanpy:start chain 1\n",
      "INFO:cmdstanpy:start chain 2\n",
      "INFO:cmdstanpy:start chain 3\n",
      "INFO:cmdstanpy:start chain 4\n"
     ]
    },
    {
     "name": "stdout",
     "output_type": "stream",
     "text": [
      "0.0020918846130371094\n"
     ]
    },
    {
     "name": "stderr",
     "output_type": "stream",
     "text": [
      "INFO:cmdstanpy:finish chain 4\n",
      "INFO:cmdstanpy:finish chain 3\n",
      "INFO:cmdstanpy:finish chain 2\n",
      "KeyboardInterrupt\n",
      "\n",
      "INFO:cmdstanpy:finish chain 1\n",
      "\n"
     ]
    }
   ],
   "source": [
    "formula = \"first_diet+diet_nocross+timepoint_encoded+cog\"\n",
    "subj = \"host_subject_id\"\n",
    "\n",
    "nb = NegativeBinomialLME(\n",
    "    table=bt_table_metag,\n",
    "    formula=formula,\n",
    "    group_var=subj,\n",
    "    metadata=metadata_metag,\n",
    "    num_iter=500,\n",
    ")\n",
    "\n",
    "\n",
    "start = time.time()\n",
    "nb.compile_model()\n",
    "end = time.time()\n",
    "print(end - start)\n",
    "\n",
    "start = time.time()\n",
    "nb.fit_model()\n",
    "end = time.time()\n",
    "print(end - start)\n",
    "\n"
   ]
  },
  {
   "cell_type": "code",
   "execution_count": null,
   "metadata": {},
   "outputs": [],
   "source": [
    "from birdman.transform import posterior_alr_to_clr\n",
    "\n",
    "inference = nb.to_inference_object()\n",
    "inference.posterior = posterior_alr_to_clr(inference.posterior)"
   ]
  },
  {
   "cell_type": "code",
   "execution_count": null,
   "metadata": {},
   "outputs": [],
   "source": [
    "import birdman.visualization as viz\n",
    "\n",
    "ax = viz.plot_parameter_estimates(\n",
    "    inference,\n",
    "    parameter=\"beta\",\n",
    "    coord={\"covariate\": \"diet[T.DIO]\"},\n",
    ")"
   ]
  },
  {
   "cell_type": "code",
   "execution_count": null,
   "metadata": {},
   "outputs": [],
   "source": []
  },
  {
   "cell_type": "code",
   "execution_count": null,
   "metadata": {},
   "outputs": [],
   "source": []
  },
  {
   "cell_type": "code",
   "execution_count": null,
   "metadata": {},
   "outputs": [],
   "source": []
  },
  {
   "cell_type": "code",
   "execution_count": null,
   "metadata": {},
   "outputs": [],
   "source": []
  }
 ],
 "metadata": {
  "kernelspec": {
   "display_name": "Python 3",
   "language": "python",
   "name": "python3"
  },
  "language_info": {
   "codemirror_mode": {
    "name": "ipython",
    "version": 3
   },
   "file_extension": ".py",
   "mimetype": "text/x-python",
   "name": "python",
   "nbconvert_exporter": "python",
   "pygments_lexer": "ipython3",
   "version": "3.6.10"
  }
 },
 "nbformat": 4,
 "nbformat_minor": 4
}
